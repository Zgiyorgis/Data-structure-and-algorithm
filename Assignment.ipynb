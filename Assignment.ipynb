{
 "cells": [
  {
   "cell_type": "markdown",
   "id": "5b475028",
   "metadata": {},
   "source": [
    "# Name:- Tedros Kasahun\n",
    "# Data Structure and Algorithms\n",
    "# github   https://github.com/Zgiyorgis\n",
    "# Email    tedroskasahun780@gmail.com"
   ]
  },
  {
   "cell_type": "markdown",
   "id": "ab3e7d01",
   "metadata": {},
   "source": [
    "Data Inserting using a dictionary"
   ]
  },
  {
   "cell_type": "code",
   "execution_count": 4,
   "id": "263b9dd8",
   "metadata": {},
   "outputs": [],
   "source": [
    "\n",
    "Students = [\n",
    "    {'Id': 'DBU1600011', 'Name': 'Yohanns', 'department': 'DS', 'cgpa': 3.44},\n",
    "    {'Id': 'DBU1600015', 'Name': 'Hana', 'department': 'DS', 'cgpa': 3.62},\n",
    "    {'Id': 'DBU1600013', 'Name': 'Selam', 'department': 'DS', 'cgpa': 2.72},\n",
    "    {'Id': 'DBU1600014', 'Name': 'Alemu', 'department': 'DS', 'cgpa': 3.8},\n",
    "    {'Id': 'DBU1600012', 'Name': 'Maranatha', 'department': 'DS', 'cgpa': 2.9},\n",
    "    {'Id': 'DBU1600017', 'Name': 'Getahun', 'department': 'DS', 'cgpa': 3.6},\n",
    "    {'Id': 'DBU1600016', 'Name': 'Zerihun', 'department': 'DS', 'cgpa': 3.0},\n",
    "    {'Id': 'DBU1600018', 'Name': 'Kidus', 'department': 'DS', 'cgpa': 2.46},\n",
    "    {'Id': 'DBU1600010', 'Name': 'Tamrat', 'department': 'DS', 'cgpa': 3.46},\n",
    "    {'Id': 'DBU1600019', 'Name': 'Hanan', 'department': 'DS', 'cgpa': 3.2}\n",
    "]\n"
   ]
  },
  {
   "cell_type": "markdown",
   "id": "f7dbfa49",
   "metadata": {},
   "source": [
    "A function for the Bubble sort algorithm to sort the list of student dictionaries by ID"
   ]
  },
  {
   "cell_type": "code",
   "execution_count": null,
   "id": "83bf4ef7",
   "metadata": {},
   "outputs": [],
   "source": [
    "def bubbleSortID(Students):\n",
    "    k = len(Students)\n",
    "    for i in range(k):\n",
    "        for l in range(0, k-i-1):\n",
    "            if Students[l]['Id'] > Students[l+1]['Id']:\n",
    "                Students[l], Students[l+1] = Students[l+1], Students[l]\n",
    "\n",
    "\n",
    "bubbleSortID(Students)        \n",
    "\n",
    "print(\"Sorted Data using Bubble sort by Id:\")\n",
    "for i in Students:\n",
    "    print(i)  "
   ]
  },
  {
   "cell_type": "markdown",
   "id": "8181f546",
   "metadata": {},
   "source": [
    "A function for the Insertion sort algorithm to sort the list of students alphabetically by Name\n"
   ]
  },
  {
   "cell_type": "code",
   "execution_count": null,
   "id": "aa0d40ae",
   "metadata": {},
   "outputs": [],
   "source": [
    "\n",
    "\n",
    "def insertionSortName(Students):\n",
    "    for i in range(1, len(Students)):\n",
    "        s= Students[i]\n",
    "        j = i - 1\n",
    "        while j >= 0 and s['Name'] < Students[j]['Name']:\n",
    "            Students[j + 1] = Students[j]\n",
    "            j -= 1\n",
    "        Students[j + 1] = s\n",
    "\n",
    "insertionSortName(Students)\n",
    "print(\"Sorted data using insertion sort by Name:\")\n",
    "for i in Students:\n",
    "    print(i)        "
   ]
  },
  {
   "cell_type": "markdown",
   "id": "684d7cd4",
   "metadata": {},
   "source": [
    "A function for the Selection sort algorithm to sort the list of students by CGPA in descending order (Highest scorer to Lowest scorer)"
   ]
  },
  {
   "cell_type": "code",
   "execution_count": null,
   "id": "96a65c9c",
   "metadata": {},
   "outputs": [],
   "source": [
    "\n",
    "def selectionSortCgpa(students):\n",
    "    num = len(students)\n",
    "    for i in range(num):\n",
    "        maxIdx = i\n",
    "        for j in range(i+1, num):\n",
    "            if students[j]['cgpa'] > students[ maxIdx]['cgpa']:\n",
    "                  maxIdx = j\n",
    "        students[i], students[maxIdx] = students[maxIdx], students[i]\n",
    "\n",
    "\n",
    "selectionSortCgpa(Students)\n",
    "print(\"Sorted data using insertion sort by Name:\")\n",
    "\n",
    "for i in Students:\n",
    "    print(i)  \n"
   ]
  },
  {
   "cell_type": "markdown",
   "id": "1cd32fc6",
   "metadata": {},
   "source": [
    "# Analysis               "
   ]
  },
  {
   "cell_type": "markdown",
   "id": "ea22dbb2",
   "metadata": {},
   "source": [
    "# 1. Bubble Sort (by ID)"
   ]
  },
  {
   "cell_type": "markdown",
   "id": "1656c5b8",
   "metadata": {},
   "source": [
    "* Performance: Bubble Sort is simple but inefficient. It compares each pair of adjacent items and swaps them if they’re out of order. It has a time complexity of O(n²).\n",
    "\n",
    "* Advantage: Very easy to understand and implement, especially for small datasets.\n",
    "\n",
    "* Disadvantage: Extremely slow for large datasets. Performs many unnecessary comparisons and swaps.\n",
    "\n",
    "\n",
    "\n"
   ]
  },
  {
   "cell_type": "markdown",
   "id": "7b06fbd2",
   "metadata": {},
   "source": [
    "# 2. Insertion Sort (by Name)"
   ]
  },
  {
   "cell_type": "markdown",
   "id": "d46cb10f",
   "metadata": {},
   "source": [
    "* Performance: Slightly better than bubble sort for partially sorted data. It inserts elements into their correct place one by one. Time complexity is O(n²), but O(n) in the best case.\n",
    "\n",
    "* Advantage: Good for small datasets or nearly sorted data. Maintains relative order (stable sort).\n",
    "\n",
    "* Disadvantage: Still inefficient for large, unsorted datasets."
   ]
  },
  {
   "cell_type": "markdown",
   "id": "7928ef42",
   "metadata": {},
   "source": [
    "# 3. Selection Sort (by CGPA)"
   ]
  },
  {
   "cell_type": "markdown",
   "id": "d5632a73",
   "metadata": {},
   "source": [
    "* Performance: Always performs O(n²) comparisons regardless of the initial order. Selects the maximum (or minimum) and places it in its final position.\n",
    "\n",
    "* Advantage: Very predictable performance. Easy to understand.\n",
    "\n",
    "* Disadvantage: It does not preserve the original order (not a stable sort) and is slow on large data."
   ]
  }
 ],
 "metadata": {
  "kernelspec": {
   "display_name": "Python 3",
   "language": "python",
   "name": "python3"
  },
  "language_info": {
   "codemirror_mode": {
    "name": "ipython",
    "version": 3
   },
   "file_extension": ".py",
   "mimetype": "text/x-python",
   "name": "python",
   "nbconvert_exporter": "python",
   "pygments_lexer": "ipython3",
   "version": "3.13.0"
  }
 },
 "nbformat": 4,
 "nbformat_minor": 5
}
